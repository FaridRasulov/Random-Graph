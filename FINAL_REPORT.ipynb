{
 "cells": [
  {
   "cell_type": "markdown",
   "metadata": {},
   "source": [
    "0) Flow diagram of the algorithm to generate r-Regular random graphs. Steps of the algorithm are the following: \n",
    "\n",
    "Check if NR is even ->\n",
    "Check if NR is less than N and not negative ->\n",
    "Check if R equals zero ->\n",
    "Iterate untile the graph is not a regular random graph ->\n",
    "Generate graph and the list of all possible edges ->\n",
    "Itereate untile list of possible edges is empty ->\n",
    "Extract a random edge and add it to the graph ->\n",
    "Filter the list of possible edges by removing edges connecting nodes that have maximum degree ->\n",
    "Filter the list of possible edges by removing edges connecting neighbours ->\n",
    "Check if resultig graph is a regular random graph, if not restart from beginning"
   ]
  },
  {
   "cell_type": "markdown",
   "metadata": {},
   "source": [
    "<table>\n",
    "<tr><td> <img src='fl.png' style=\"width: 80%;\"/> </td>\n",
    "</tr></table>"
   ]
  },
  {
   "cell_type": "markdown",
   "metadata": {},
   "source": [
    "1) For the following task we need to discribe the conmplexity of the following operations. Matrix multiplication is an $O(n^3)$ operation. Since its in a for loop (through n), the final complexity of irreducibility method is $O(n^4)$. There are two main operations required to apply Laplacian matrix/eigenvalue method for connectivity; Laplacian matrix computation and eigenvalue calculation. Laplacian matrix computational time is in $O(n^3)$, however since eigenvalue calculation works in $O(n^3)$, the final complexity of the method is $O(n^3)$. BFS : The complexity of BFS nectedness check is $O(n^2)$. For the three connectivity checking algorithms we obtain the following plots of execution time.\n",
    "\n",
    "2) As a final consideration we can say that increasing p the ER graphs are more connected than the r-regular graphs, and this \n",
    "is pretty obvious because there are more edges. For the rregular graphs with r = 2 the probability to be connected decrease \n",
    "increasing N. On the other hand, with r = 16 the graph is completely connected. We may explainthesetwotrends saying that in \n",
    "the first case (r = 2) the single node degree is constant but there are many nodes so the probability to be connected decrease. \n",
    "In the second case, (r = 16) the number of nodes increases but this time the single node degree is very high, so the graph is \n",
    "connected."
   ]
  },
  {
   "cell_type": "markdown",
   "metadata": {},
   "source": [
    "<table>\n",
    "<tr><td> <img src='complexity.png' style=\"width: 280px;\"/> </td></tr>\n",
    "<tr>\n",
    "<td> <img src='connected_graph_prob_erdos_renyi.png' alt=\"Drawing\" style=\"width: 280px;\"/> </td>\n",
    "<td> <img src='connected_graph_prob_rand_reg.png' alt=\"Drawing\" style=\"width: 280px;\"/> </td>\n",
    "</tr></table>"
   ]
  },
  {
   "cell_type": "markdown",
   "metadata": {},
   "source": [
    "3) Throughput bound versus n for ER topology and r-regular topology. Because of the definition of number of links for observed two models we are obtaining smaller value of TH bound for random regular graphs than for Erdos Renyi graphs. However this difference disappear with increasing number of nodes beacuse of hyperbolic nature of TH formula."
   ]
  },
  {
   "cell_type": "markdown",
   "metadata": {},
   "source": [
    "<table>\n",
    "<tr>\n",
    "<td> <img src='TH_ER.png' alt=\"Drawing\" style=\"width: 300px;\"/> </td>\n",
    "<td> <img src='TH_RG.png' alt=\"Drawing\" style=\"width: 300px;\"/> </td>    \n",
    "</tr>\n",
    "<tr><td> <img src='both.png' alt=\"Drawing\" style=\"width: 300px;\"/> </td></tr>\n",
    "</table>"
   ]
  },
  {
   "cell_type": "code",
   "execution_count": null,
   "metadata": {},
   "outputs": [],
   "source": []
  }
 ],
 "metadata": {
  "kernelspec": {
   "display_name": "Python 3",
   "language": "python",
   "name": "python3"
  },
  "language_info": {
   "codemirror_mode": {
    "name": "ipython",
    "version": 3
   },
   "file_extension": ".py",
   "mimetype": "text/x-python",
   "name": "python",
   "nbconvert_exporter": "python",
   "pygments_lexer": "ipython3",
   "version": "3.7.0"
  }
 },
 "nbformat": 4,
 "nbformat_minor": 2
}
